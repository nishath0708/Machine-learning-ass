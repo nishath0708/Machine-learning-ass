{
 "cells": [
  {
   "cell_type": "code",
   "execution_count": 62,
   "metadata": {
    "colab": {
     "base_uri": "https://localhost:8080/"
    },
    "id": "y3_xxzvGKVkC",
    "outputId": "503b649f-7557-4846-cf03-d4d9de072bce"
   },
   "outputs": [
    {
     "name": "stdout",
     "output_type": "stream",
     "text": [
      "sorted list [19, 19, 20, 22, 24, 24, 24, 25, 25, 26]\n",
      "Minimum Age: 19\n",
      "Maximum Age: 26\n"
     ]
    }
   ],
   "source": [
    "ages = [19, 22, 19, 24, 20, 25, 26, 24, 25, 24]\n",
    "ages.sort()#sorts the elements in ages\n",
    "min_age=min(ages)#gives the minimum value in the list ages\n",
    "max_age=max(ages)#gives the miximum value in the list ages\n",
    "print(\"sorted list\",ages)#prints the sorted list\n",
    "print(\"Minimum Age:\",min_age)#prints the sorted list\n",
    "print(\"Maximum Age:\",max_age)#prints maximum value"
   ]
  },
  {
   "cell_type": "code",
   "execution_count": 63,
   "metadata": {
    "colab": {
     "base_uri": "https://localhost:8080/"
    },
    "id": "fFNb06FOjcBa",
    "outputId": "4a8f4aa8-6fee-430c-ef4e-061df1dce727"
   },
   "outputs": [
    {
     "name": "stdout",
     "output_type": "stream",
     "text": [
      "[19, 19, 20, 22, 24, 24, 24, 25, 25, 26, 19, 26]\n"
     ]
    },
    {
     "data": {
      "text/plain": [
       "12"
      ]
     },
     "execution_count": 63,
     "metadata": {},
     "output_type": "execute_result"
    }
   ],
   "source": [
    "#Add the min age and the max age again to the list\n",
    "ages.append(min_age)\n",
    "ages.append(max_age)\n",
    "print(ages)\n",
    "len(ages)"
   ]
  },
  {
   "cell_type": "code",
   "execution_count": 64,
   "metadata": {
    "colab": {
     "base_uri": "https://localhost:8080/"
    },
    "id": "JACtnsQBjx8W",
    "outputId": "f3147bc5-d1ad-482a-be62-cd7755fc8b40"
   },
   "outputs": [
    {
     "name": "stdout",
     "output_type": "stream",
     "text": [
      "24.0\n"
     ]
    }
   ],
   "source": [
    "#Find the median age (one middle item or two middle items divided by two)\n",
    "import statistics\n",
    "print(statistics.median(ages))"
   ]
  },
  {
   "cell_type": "code",
   "execution_count": 65,
   "metadata": {
    "colab": {
     "base_uri": "https://localhost:8080/"
    },
    "id": "mGXB-A4mk0y3",
    "outputId": "597744d2-f85f-4630-f4fa-ead0aa042669"
   },
   "outputs": [
    {
     "name": "stdout",
     "output_type": "stream",
     "text": [
      "22.75\n"
     ]
    }
   ],
   "source": [
    "#Find the average age (sum of all items divided by their number)\n",
    "avg=sum(ages)/len(ages)\n",
    "print(avg)"
   ]
  },
  {
   "cell_type": "code",
   "execution_count": 66,
   "metadata": {
    "colab": {
     "base_uri": "https://localhost:8080/"
    },
    "id": "JK83k6AVlFRX",
    "outputId": "01f43764-6ff0-4762-ff4f-68dc990cdffe"
   },
   "outputs": [
    {
     "data": {
      "text/plain": [
       "7"
      ]
     },
     "execution_count": 66,
     "metadata": {},
     "output_type": "execute_result"
    }
   ],
   "source": [
    "#Find the range of the ages (max minus min)\n",
    "range=max(ages)-min(ages)\n",
    "range"
   ]
  },
  {
   "cell_type": "markdown",
   "metadata": {
    "id": "ToFFERtHldOh"
   },
   "source": [
    "Question2"
   ]
  },
  {
   "cell_type": "code",
   "execution_count": 67,
   "metadata": {
    "id": "c69BuZcIlfIE"
   },
   "outputs": [],
   "source": [
    "#Create an empty dictionary called dog\n",
    "dog={}"
   ]
  },
  {
   "cell_type": "code",
   "execution_count": 68,
   "metadata": {
    "colab": {
     "base_uri": "https://localhost:8080/"
    },
    "id": "jkinrCEumNMz",
    "outputId": "f1cd0fb6-a583-4d52-a483-5593e2c6036d"
   },
   "outputs": [
    {
     "data": {
      "text/plain": [
       "dict_keys(['name', 'color', 'breed', 'age', 'legs'])"
      ]
     },
     "execution_count": 68,
     "metadata": {},
     "output_type": "execute_result"
    }
   ],
   "source": [
    "#Add name, color, breed, legs, age to the dog dictionary\n",
    "dog={'name':'simba','color':'brown','breed':'labrador','age':'2','legs':'4'}\n",
    "dog.keys()"
   ]
  },
  {
   "cell_type": "code",
   "execution_count": 1,
   "metadata": {
    "id": "cL-8JZpYmy00"
   },
   "outputs": [],
   "source": [
    "#Create a student dictionary\n",
    "student={'first_name':'NISHANTH',\n",
    "         'last_name':'KURUGUNTLS',\n",
    "         'gender':'male',\n",
    "         'age':'23',\n",
    "         'maritalstatus':'single',\n",
    "         'skills':['c','java','c#','python'],\n",
    "         'country':'India',\n",
    "         'city':'Guntur',\n",
    "         'address':'chirala'\n",
    "         }"
   ]
  },
  {
   "cell_type": "code",
   "execution_count": 2,
   "metadata": {
    "colab": {
     "base_uri": "https://localhost:8080/"
    },
    "id": "kHuLQvvsom-s",
    "outputId": "efd22f85-7a2c-49d7-d68b-3a8df2e99387"
   },
   "outputs": [
    {
     "data": {
      "text/plain": [
       "9"
      ]
     },
     "execution_count": 2,
     "metadata": {},
     "output_type": "execute_result"
    }
   ],
   "source": [
    "#Get the length of the student dictionary\n",
    "student_length=len(student)\n",
    "student_length"
   ]
  },
  {
   "cell_type": "code",
   "execution_count": 85,
   "metadata": {
    "colab": {
     "base_uri": "https://localhost:8080/"
    },
    "id": "jRn0ONMYoyNc",
    "outputId": "d391aac8-09f7-4347-dadc-2c0ab8d53e50"
   },
   "outputs": [
    {
     "name": "stdout",
     "output_type": "stream",
     "text": [
      "['c', 'java', 'c#', 'python']\n",
      "<class 'list'>\n"
     ]
    }
   ],
   "source": [
    "#Get the value of skills and check the data type, it should be a list\n",
    "skills_value=student[\"skills\"]\n",
    "skills_type=type(skills_value)\n",
    "print(skills_value)\n",
    "print(skills_type)"
   ]
  },
  {
   "cell_type": "code",
   "execution_count": 86,
   "metadata": {
    "colab": {
     "base_uri": "https://localhost:8080/"
    },
    "id": "igz5fDV3pRsH",
    "outputId": "c4e425b2-58e4-4342-822f-ae1bc77cb016"
   },
   "outputs": [
    {
     "name": "stdout",
     "output_type": "stream",
     "text": [
      "['c', 'java', 'c#', 'python', 'Javascript', 'HTML']\n"
     ]
    }
   ],
   "source": [
    "#Modify the skills values by adding one or two skills\n",
    "student[\"skills\"].extend([\"Javascript\",\"HTML\"])\n",
    "print(skills_value)"
   ]
  },
  {
   "cell_type": "code",
   "execution_count": 87,
   "metadata": {
    "colab": {
     "base_uri": "https://localhost:8080/"
    },
    "id": "rZwFYvd5qEra",
    "outputId": "27cd95fe-0960-472b-d110-1da64770d920"
   },
   "outputs": [
    {
     "data": {
      "text/plain": [
       "['first_name',\n",
       " 'last_name',\n",
       " 'gender',\n",
       " 'age',\n",
       " 'maritalstatus',\n",
       " 'skills',\n",
       " 'country',\n",
       " 'city',\n",
       " 'address']"
      ]
     },
     "execution_count": 87,
     "metadata": {},
     "output_type": "execute_result"
    }
   ],
   "source": [
    "#Get the dictionary keys as a list\n",
    "student_keys=list(student.keys())\n",
    "student_keys"
   ]
  },
  {
   "cell_type": "code",
   "execution_count": 88,
   "metadata": {
    "colab": {
     "base_uri": "https://localhost:8080/"
    },
    "id": "tTVymajVqOAR",
    "outputId": "0107dcd4-2aee-4da9-8a37-85980b6145e2"
   },
   "outputs": [
    {
     "data": {
      "text/plain": [
       "['Yamini',\n",
       " 'Yarra',\n",
       " 'female',\n",
       " '23',\n",
       " 'single',\n",
       " ['c', 'java', 'c#', 'python', 'Javascript', 'HTML'],\n",
       " 'India',\n",
       " 'Guntur',\n",
       " 'chirala']"
      ]
     },
     "execution_count": 88,
     "metadata": {},
     "output_type": "execute_result"
    }
   ],
   "source": [
    "#Get the dictionary values as a list\n",
    "student_values=list(student.values())\n",
    "student_values"
   ]
  },
  {
   "cell_type": "markdown",
   "metadata": {
    "id": "J0ogj5tpQK1d"
   },
   "source": [
    "Question 3"
   ]
  },
  {
   "cell_type": "code",
   "execution_count": 33,
   "metadata": {
    "id": "cHCI-IMEQKaH"
   },
   "outputs": [],
   "source": [
    "#Create a tuple containing names of your sisters and your brothers\n",
    "sisters=(\"Mydhili\",\"Chandana\",\"Jaishnavi\")\n",
    "brothers=(\"chaitanya\",\"sunny\",\"jathin\")"
   ]
  },
  {
   "cell_type": "code",
   "execution_count": 34,
   "metadata": {
    "colab": {
     "base_uri": "https://localhost:8080/"
    },
    "id": "3htqHcYuS5BC",
    "outputId": "ca42c8f7-89fb-4601-f357-5bbcf4f17390"
   },
   "outputs": [
    {
     "data": {
      "text/plain": [
       "('chaitanya', 'sunny', 'jathin', 'Mydhili', 'Chandana', 'Jaishnavi')"
      ]
     },
     "execution_count": 34,
     "metadata": {},
     "output_type": "execute_result"
    }
   ],
   "source": [
    "#Join brothers and sisters tuples and assign it to siblings\n",
    "siblings=brothers+sisters\n",
    "siblings"
   ]
  },
  {
   "cell_type": "code",
   "execution_count": 35,
   "metadata": {
    "colab": {
     "base_uri": "https://localhost:8080/"
    },
    "id": "rtyFciglTbUn",
    "outputId": "33728b7a-951b-4534-d8c1-a7eb5d4267be"
   },
   "outputs": [
    {
     "data": {
      "text/plain": [
       "6"
      ]
     },
     "execution_count": 35,
     "metadata": {},
     "output_type": "execute_result"
    }
   ],
   "source": [
    "#How many siblings do you have?\n",
    "num_siblings=len(siblings)\n",
    "num_siblings"
   ]
  },
  {
   "cell_type": "code",
   "execution_count": 36,
   "metadata": {
    "colab": {
     "base_uri": "https://localhost:8080/"
    },
    "id": "kfJPB8p4Trkl",
    "outputId": "2490dd39-12d8-4d72-a7bb-8a2586f133a0"
   },
   "outputs": [
    {
     "data": {
      "text/plain": [
       "('Bapuji',\n",
       " 'padma',\n",
       " 'chaitanya',\n",
       " 'sunny',\n",
       " 'jathin',\n",
       " 'Mydhili',\n",
       " 'Chandana',\n",
       " 'Jaishnavi')"
      ]
     },
     "execution_count": 36,
     "metadata": {},
     "output_type": "execute_result"
    }
   ],
   "source": [
    "#modify the siblings tuple and add the name of your father and mother and assign it to family_members\n",
    "father=\"Bapuji\"\n",
    "mother=\"padma\"\n",
    "family_members=(father,mother)+siblings\n",
    "family_members"
   ]
  },
  {
   "cell_type": "markdown",
   "metadata": {
    "id": "d6jaTr2iU1g-"
   },
   "source": [
    "Question4"
   ]
  },
  {
   "cell_type": "code",
   "execution_count": 37,
   "metadata": {
    "id": "6vPa4nMHWNLc"
   },
   "outputs": [],
   "source": [
    "#Given sets and lists\n",
    "it_companies={'Facebook','Google','Microsoft','Apple','IBM','Oracle','Amazon'}\n",
    "A = {19, 22, 24, 20, 25, 26}\n",
    "B = {19, 22, 20, 25, 26, 24, 28, 27}\n",
    "age = [22, 19, 24, 25, 26, 24, 25, 24]"
   ]
  },
  {
   "cell_type": "code",
   "execution_count": 38,
   "metadata": {
    "colab": {
     "base_uri": "https://localhost:8080/"
    },
    "id": "r57Ptq-IXJmB",
    "outputId": "0fd9a147-74bb-4205-c9b6-fff576b73c51"
   },
   "outputs": [
    {
     "data": {
      "text/plain": [
       "7"
      ]
     },
     "execution_count": 38,
     "metadata": {},
     "output_type": "execute_result"
    }
   ],
   "source": [
    "#Find the lenght of the set it_companies\n",
    "len(it_companies)"
   ]
  },
  {
   "cell_type": "code",
   "execution_count": 39,
   "metadata": {
    "colab": {
     "base_uri": "https://localhost:8080/"
    },
    "id": "Owk-44AcXZ0X",
    "outputId": "705cf2d2-62ff-439e-e5c3-5bfb1c12f180"
   },
   "outputs": [
    {
     "data": {
      "text/plain": [
       "{'Amazon',\n",
       " 'Apple',\n",
       " 'Facebook',\n",
       " 'Google',\n",
       " 'IBM',\n",
       " 'Microsoft',\n",
       " 'Oracle',\n",
       " 'twitter'}"
      ]
     },
     "execution_count": 39,
     "metadata": {},
     "output_type": "execute_result"
    }
   ],
   "source": [
    "#Add 'Twitter' to it_companies\n",
    "it_companies.add('twitter')\n",
    "it_companies"
   ]
  },
  {
   "cell_type": "code",
   "execution_count": 41,
   "metadata": {
    "colab": {
     "base_uri": "https://localhost:8080/"
    },
    "id": "932T30mZXrWT",
    "outputId": "4d3e0fc8-8d2a-402a-b6b3-b271c3cae421"
   },
   "outputs": [
    {
     "name": "stdout",
     "output_type": "stream",
     "text": [
      "{'Snapchat', 'IBM', 'Facebook', 'Microsoft', 'Apple', 'Amazon', 'Oracle', 'Spotify', 'twitter', 'LinkedIn', 'Google'}\n"
     ]
    }
   ],
   "source": [
    "it_companies.update(['LinkedIn','Snapchat','Spotify'])#Insert multiple IT companies at once to the set it_companies\n",
    "print(it_companies)"
   ]
  },
  {
   "cell_type": "code",
   "execution_count": 42,
   "metadata": {
    "colab": {
     "base_uri": "https://localhost:8080/"
    },
    "id": "_h9lqUQsYTi5",
    "outputId": "7c03cace-615e-45b9-d0f4-d1b6f860b39c"
   },
   "outputs": [
    {
     "data": {
      "text/plain": [
       "{'Amazon',\n",
       " 'Apple',\n",
       " 'Facebook',\n",
       " 'Google',\n",
       " 'IBM',\n",
       " 'LinkedIn',\n",
       " 'Microsoft',\n",
       " 'Oracle',\n",
       " 'Spotify',\n",
       " 'twitter'}"
      ]
     },
     "execution_count": 42,
     "metadata": {},
     "output_type": "execute_result"
    }
   ],
   "source": [
    "#Remove one of the companies from the set it_companies\n",
    "it_companies.remove('Snapchat')\n",
    "it_companies"
   ]
  },
  {
   "cell_type": "code",
   "execution_count": 121,
   "metadata": {
    "colab": {
     "base_uri": "https://localhost:8080/"
    },
    "id": "SKngKgDJYkU9",
    "outputId": "7077971a-c06a-49d3-a940-08a622df9a76"
   },
   "outputs": [
    {
     "data": {
      "text/plain": [
       "{'Amazon',\n",
       " 'Apple',\n",
       " 'Facebook',\n",
       " 'Google',\n",
       " 'LinkedIn',\n",
       " 'Microsoft',\n",
       " 'Oracle',\n",
       " 'Spotify',\n",
       " 'twitter'}"
      ]
     },
     "execution_count": 121,
     "metadata": {},
     "output_type": "execute_result"
    }
   ],
   "source": [
    "#What is the difference between remove and discard\n",
    "it_companies.discard('IBM')#discard doesnot give error if the value doesnot exists whereas remove gives\n",
    "it_companies"
   ]
  },
  {
   "cell_type": "code",
   "execution_count": 45,
   "metadata": {
    "colab": {
     "base_uri": "https://localhost:8080/"
    },
    "id": "0L09K9BFZRIE",
    "outputId": "3d0f91bb-adfc-429d-aa6a-c7a2df4692a6"
   },
   "outputs": [
    {
     "data": {
      "text/plain": [
       "{19, 20, 22, 24, 25, 26, 27, 28}"
      ]
     },
     "execution_count": 45,
     "metadata": {},
     "output_type": "execute_result"
    }
   ],
   "source": [
    "#Join A and B\n",
    "new=A.union(B)\n",
    "new"
   ]
  },
  {
   "cell_type": "code",
   "execution_count": 46,
   "metadata": {
    "colab": {
     "base_uri": "https://localhost:8080/"
    },
    "id": "fUUdQwPkZeP9",
    "outputId": "ca760877-e2b9-4ce2-82d7-d815c8f91918"
   },
   "outputs": [
    {
     "data": {
      "text/plain": [
       "{19, 20, 22, 24, 25, 26}"
      ]
     },
     "execution_count": 46,
     "metadata": {},
     "output_type": "execute_result"
    }
   ],
   "source": [
    "#Find A intersection B\n",
    "new1=A.intersection(B)\n",
    "new1"
   ]
  },
  {
   "cell_type": "code",
   "execution_count": 47,
   "metadata": {
    "colab": {
     "base_uri": "https://localhost:8080/"
    },
    "id": "iTYfGlHqZw0M",
    "outputId": "bf77aea2-c5ec-4ee3-f03f-c8ee7395ce8c"
   },
   "outputs": [
    {
     "data": {
      "text/plain": [
       "True"
      ]
     },
     "execution_count": 47,
     "metadata": {},
     "output_type": "execute_result"
    }
   ],
   "source": [
    "#Is A subset of B\n",
    "new2=A.issubset(B)\n",
    "new2"
   ]
  },
  {
   "cell_type": "code",
   "execution_count": 49,
   "metadata": {
    "colab": {
     "base_uri": "https://localhost:8080/"
    },
    "id": "G_kXT22fZ8ge",
    "outputId": "2ed74c8e-51e0-4484-b8ef-466b381e2639"
   },
   "outputs": [
    {
     "data": {
      "text/plain": [
       "False"
      ]
     },
     "execution_count": 49,
     "metadata": {},
     "output_type": "execute_result"
    }
   ],
   "source": [
    "#Are A and B disjoint sets\n",
    "A.isdisjoint(B)"
   ]
  },
  {
   "cell_type": "code",
   "execution_count": 50,
   "metadata": {
    "colab": {
     "base_uri": "https://localhost:8080/"
    },
    "id": "8DfQlP7waNur",
    "outputId": "af101f13-0fca-428b-c33d-c62c84c41a76"
   },
   "outputs": [
    {
     "data": {
      "text/plain": [
       "{19, 20, 22, 24, 25, 26, 27, 28}"
      ]
     },
     "execution_count": 50,
     "metadata": {},
     "output_type": "execute_result"
    }
   ],
   "source": [
    "#Join A with B and B with A\n",
    "A.update(B)\n",
    "A"
   ]
  },
  {
   "cell_type": "code",
   "execution_count": 51,
   "metadata": {
    "colab": {
     "base_uri": "https://localhost:8080/"
    },
    "id": "8Q_SdG-naair",
    "outputId": "511425dd-4902-42d9-a2d8-da25348f9a34"
   },
   "outputs": [
    {
     "data": {
      "text/plain": [
       "{19, 20, 22, 24, 25, 26, 27, 28}"
      ]
     },
     "execution_count": 51,
     "metadata": {},
     "output_type": "execute_result"
    }
   ],
   "source": [
    "B.update(A)\n",
    "B"
   ]
  },
  {
   "cell_type": "code",
   "execution_count": 52,
   "metadata": {
    "colab": {
     "base_uri": "https://localhost:8080/"
    },
    "id": "i74G4xOtagDO",
    "outputId": "c64003f7-c9dd-450a-a182-7a9cf9bacb10"
   },
   "outputs": [
    {
     "name": "stdout",
     "output_type": "stream",
     "text": [
      "{27, 28}\n"
     ]
    }
   ],
   "source": [
    "#What is the symmetric difference between A and B\n",
    "A={19,22,24,20,25,26}\n",
    "B={19,22,20,25,26,24,28,27}\n",
    "A_symmetric_difference_B=A.symmetric_difference(B)\n",
    "print(A_symmetric_difference_B)"
   ]
  },
  {
   "cell_type": "code",
   "execution_count": 53,
   "metadata": {
    "id": "Mgx3IGjjbEzy"
   },
   "outputs": [],
   "source": [
    "#Delete the sets completely\n",
    "del A\n",
    "del B"
   ]
  },
  {
   "cell_type": "code",
   "execution_count": 54,
   "metadata": {
    "colab": {
     "base_uri": "https://localhost:8080/"
    },
    "id": "saQLN3njbNZ-",
    "outputId": "0a30d32e-02b9-4411-a539-b6ab098c1003"
   },
   "outputs": [
    {
     "name": "stdout",
     "output_type": "stream",
     "text": [
      "8\n",
      "5\n"
     ]
    }
   ],
   "source": [
    "#Convert the ages to a set and compare the length of the list and the set.\n",
    "age=[22,19,24,25,26,24,25,24]\n",
    "age_set=set(age)\n",
    "print(len(age))\n",
    "print(len(age_set))"
   ]
  },
  {
   "cell_type": "markdown",
   "metadata": {
    "id": "okigdF6Bbu30"
   },
   "source": [
    "Question5"
   ]
  },
  {
   "cell_type": "code",
   "execution_count": 55,
   "metadata": {
    "colab": {
     "base_uri": "https://localhost:8080/"
    },
    "id": "ts9cCkQHbyn6",
    "outputId": "1249b67a-d48c-4609-b5dc-a363d9a185b9"
   },
   "outputs": [
    {
     "data": {
      "text/plain": [
       "2826.0"
      ]
     },
     "execution_count": 55,
     "metadata": {},
     "output_type": "execute_result"
    }
   ],
   "source": [
    "rad=30\n",
    "_area_of_circle_=3.14*rad*rad\n",
    "_area_of_circle_"
   ]
  },
  {
   "cell_type": "code",
   "execution_count": 56,
   "metadata": {
    "colab": {
     "base_uri": "https://localhost:8080/"
    },
    "id": "a6QoADafc-kf",
    "outputId": "55cf774d-7f27-41bd-b97c-3861a8edf6ad"
   },
   "outputs": [
    {
     "data": {
      "text/plain": [
       "188.4"
      ]
     },
     "execution_count": 56,
     "metadata": {},
     "output_type": "execute_result"
    }
   ],
   "source": [
    "_circum_of_circle_=2*3.14*rad\n",
    "_circum_of_circle_"
   ]
  },
  {
   "cell_type": "code",
   "execution_count": 57,
   "metadata": {
    "colab": {
     "base_uri": "https://localhost:8080/"
    },
    "id": "04okPTk2dN_o",
    "outputId": "50847a68-5245-49ac-c739-0f22e3bf2a3f"
   },
   "outputs": [
    {
     "name": "stdout",
     "output_type": "stream",
     "text": [
      "enter the radius of circle:5\n"
     ]
    },
    {
     "data": {
      "text/plain": [
       "78.53981633974483"
      ]
     },
     "execution_count": 57,
     "metadata": {},
     "output_type": "execute_result"
    }
   ],
   "source": [
    "import math\n",
    "radius=float(input(\"enter the radius of circle:\"))#takes the radius value as a input from user\n",
    "area=math.pi*radius**2\n",
    "area"
   ]
  },
  {
   "cell_type": "markdown",
   "metadata": {
    "id": "M2jfJwqhgX4F"
   },
   "source": [
    "Question6"
   ]
  },
  {
   "cell_type": "code",
   "execution_count": 58,
   "metadata": {
    "colab": {
     "base_uri": "https://localhost:8080/"
    },
    "id": "yHcfmlJJd7qY",
    "outputId": "409fd59c-3653-40f5-9fd6-b4996233593c"
   },
   "outputs": [
    {
     "data": {
      "text/plain": [
       "10"
      ]
     },
     "execution_count": 58,
     "metadata": {},
     "output_type": "execute_result"
    }
   ],
   "source": [
    "sentence= \"I am a teacher and I love to inspire and teach people\"\n",
    "words=sentence.split()\n",
    "unique_words=set(words)\n",
    "number_of_unique_words=len(unique_words)\n",
    "number_of_unique_words\n"
   ]
  },
  {
   "cell_type": "markdown",
   "metadata": {
    "id": "LzSta9mmgNXR"
   },
   "source": [
    "Question7"
   ]
  },
  {
   "cell_type": "code",
   "execution_count": 59,
   "metadata": {
    "colab": {
     "base_uri": "https://localhost:8080/"
    },
    "id": "Cv8VeklDe9g3",
    "outputId": "b7c21a6e-9a1a-420e-89df-f92bc56d4ed5"
   },
   "outputs": [
    {
     "name": "stdout",
     "output_type": "stream",
     "text": [
      "Name\tAge\tCountry\tCity\n",
      "Asabeneh\t250\tFinland\tHelsinki\n"
     ]
    }
   ],
   "source": [
    "header=\"Name\\tAge\\tCountry\\tCity\"\n",
    "data=\"Asabeneh\\t250\\tFinland\\tHelsinki\"\n",
    "print(header)\n",
    "print(data)"
   ]
  },
  {
   "cell_type": "markdown",
   "metadata": {
    "id": "k_5FuTzwgGdC"
   },
   "source": [
    "Question8"
   ]
  },
  {
   "cell_type": "code",
   "execution_count": 61,
   "metadata": {
    "colab": {
     "base_uri": "https://localhost:8080/"
    },
    "id": "7yS6EnhkgI_9",
    "outputId": "e09ca18c-9362-49a7-9750-a437422f1a7a"
   },
   "outputs": [
    {
     "name": "stdout",
     "output_type": "stream",
     "text": [
      "The area of the circle with radius 10 is 314.0 meter square.\n",
      "The area of the circle with radius 10 is 314 meter square.\n"
     ]
    }
   ],
   "source": [
    "radius=10\n",
    "area=3.14*radius**2\n",
    "result= f\"The area of the circle with radius {radius} is {area} meter square.\"\n",
    "print(result)\n",
    "#Or if you want to display the area as an integer\n",
    "result_int=f\"The area of the circle with radius {radius} is {int(area)} meter square.\"\n",
    "print(result_int)\n"
   ]
  },
  {
   "cell_type": "markdown",
   "metadata": {
    "id": "QZTqWU4stkrA"
   },
   "source": [
    "Question9"
   ]
  },
  {
   "cell_type": "code",
   "execution_count": 124,
   "metadata": {
    "colab": {
     "base_uri": "https://localhost:8080/"
    },
    "id": "kDfR-L5eD7rj",
    "outputId": "f3f6a92f-f6f2-45f0-f885-b3fb1fc2a4c6"
   },
   "outputs": [
    {
     "name": "stdout",
     "output_type": "stream",
     "text": [
      "Enter the number of elements: 5\n",
      "Enter the weight of the student 1 (in pounds): 9\n",
      "Enter the weight of the student 2 (in pounds): 9\n",
      "Enter the weight of the student 3 (in pounds): 9\n",
      "Enter the weight of the student 4 (in pounds): 9\n",
      "Enter the weight of the student 5 (in pounds): 9\n",
      "[4.08, 4.08, 4.08, 4.08, 4.08]\n"
     ]
    }
   ],
   "source": [
    "# Read the number of elements\n",
    "n = int(input(\"Enter the number of elements: \"))\n",
    "\n",
    "# Initialize an empty list for weights in pounds\n",
    "weights_lbs = []\n",
    "\n",
    "# Use a while loop to read and append elements to the list\n",
    "i = 0\n",
    "while i < n:\n",
    "    weight_lbs = int(input(f\"Enter the weight of the student {i+1} (in pounds): \"))\n",
    "    weights_lbs.append(weight_lbs)\n",
    "    i += 1\n",
    "\n",
    "# Convert weights from pounds to kilograms and round to 2 decimal places\n",
    "weights_kg = []\n",
    "i = 0\n",
    "while i < len(weights_lbs):\n",
    "    weight_kg = round(weights_lbs[i] * 0.453592, 2)\n",
    "    weights_kg.append(weight_kg)\n",
    "    i += 1\n",
    "\n",
    "# Print the weights in kilograms\n",
    "print(weights_kg)"
   ]
  }
 ],
 "metadata": {
  "colab": {
   "provenance": [],
   "toc_visible": true
  },
  "kernelspec": {
   "display_name": "Python 3 (ipykernel)",
   "language": "python",
   "name": "python3"
  },
  "language_info": {
   "codemirror_mode": {
    "name": "ipython",
    "version": 3
   },
   "file_extension": ".py",
   "mimetype": "text/x-python",
   "name": "python",
   "nbconvert_exporter": "python",
   "pygments_lexer": "ipython3",
   "version": "3.11.5"
  }
 },
 "nbformat": 4,
 "nbformat_minor": 1
}
